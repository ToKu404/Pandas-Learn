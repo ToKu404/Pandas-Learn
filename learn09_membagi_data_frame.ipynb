{
 "metadata": {
  "language_info": {
   "codemirror_mode": {
    "name": "ipython",
    "version": 3
   },
   "file_extension": ".py",
   "mimetype": "text/x-python",
   "name": "python",
   "nbconvert_exporter": "python",
   "pygments_lexer": "ipython3",
   "version": "3.9.5"
  },
  "orig_nbformat": 4,
  "kernelspec": {
   "name": "python3",
   "display_name": "Python 3.9.5 64-bit"
  },
  "interpreter": {
   "hash": "45e182f63ce9a24b717966ed2152045f3ff728757cabbf2655012d4a2cde5b39"
  }
 },
 "nbformat": 4,
 "nbformat_minor": 2,
 "cells": [
  {
   "cell_type": "code",
   "execution_count": 1,
   "metadata": {},
   "outputs": [
    {
     "output_type": "stream",
     "name": "stdout",
     "text": [
      "1.2.5\n1.20.3\n"
     ]
    }
   ],
   "source": [
    "import pandas as pd\n",
    "import numpy as np\n",
    "\n",
    "print(pd.__version__)\n",
    "print(np.__version__)"
   ]
  },
  {
   "cell_type": "code",
   "execution_count": 4,
   "metadata": {},
   "outputs": [
    {
     "output_type": "execute_result",
     "data": {
      "text/plain": [
       "    A   B   C   D   E\n",
       "0  10   6  12  11  17\n",
       "1   5  12   4   8  16\n",
       "2   1   9   3  11  11\n",
       "3   6   8   2  10   1\n",
       "4  16  16  16  16   4\n",
       "5   4  10  18   8   6\n",
       "6  13   6  11   2  19\n",
       "7   3   6  12  18  16\n",
       "8  10  13   3   3  15\n",
       "9   6   4  14  12   2"
      ],
      "text/html": "<div>\n<style scoped>\n    .dataframe tbody tr th:only-of-type {\n        vertical-align: middle;\n    }\n\n    .dataframe tbody tr th {\n        vertical-align: top;\n    }\n\n    .dataframe thead th {\n        text-align: right;\n    }\n</style>\n<table border=\"1\" class=\"dataframe\">\n  <thead>\n    <tr style=\"text-align: right;\">\n      <th></th>\n      <th>A</th>\n      <th>B</th>\n      <th>C</th>\n      <th>D</th>\n      <th>E</th>\n    </tr>\n  </thead>\n  <tbody>\n    <tr>\n      <th>0</th>\n      <td>10</td>\n      <td>6</td>\n      <td>12</td>\n      <td>11</td>\n      <td>17</td>\n    </tr>\n    <tr>\n      <th>1</th>\n      <td>5</td>\n      <td>12</td>\n      <td>4</td>\n      <td>8</td>\n      <td>16</td>\n    </tr>\n    <tr>\n      <th>2</th>\n      <td>1</td>\n      <td>9</td>\n      <td>3</td>\n      <td>11</td>\n      <td>11</td>\n    </tr>\n    <tr>\n      <th>3</th>\n      <td>6</td>\n      <td>8</td>\n      <td>2</td>\n      <td>10</td>\n      <td>1</td>\n    </tr>\n    <tr>\n      <th>4</th>\n      <td>16</td>\n      <td>16</td>\n      <td>16</td>\n      <td>16</td>\n      <td>4</td>\n    </tr>\n    <tr>\n      <th>5</th>\n      <td>4</td>\n      <td>10</td>\n      <td>18</td>\n      <td>8</td>\n      <td>6</td>\n    </tr>\n    <tr>\n      <th>6</th>\n      <td>13</td>\n      <td>6</td>\n      <td>11</td>\n      <td>2</td>\n      <td>19</td>\n    </tr>\n    <tr>\n      <th>7</th>\n      <td>3</td>\n      <td>6</td>\n      <td>12</td>\n      <td>18</td>\n      <td>16</td>\n    </tr>\n    <tr>\n      <th>8</th>\n      <td>10</td>\n      <td>13</td>\n      <td>3</td>\n      <td>3</td>\n      <td>15</td>\n    </tr>\n    <tr>\n      <th>9</th>\n      <td>6</td>\n      <td>4</td>\n      <td>14</td>\n      <td>12</td>\n      <td>2</td>\n    </tr>\n  </tbody>\n</table>\n</div>"
     },
     "metadata": {},
     "execution_count": 4
    }
   ],
   "source": [
    "n_rows = 10\n",
    "n_cols = 5\n",
    "cols = tuple('ABCDE')\n",
    "\n",
    "df = pd.DataFrame(np.random.randint(1, 20, size=(n_rows, n_cols)), columns=cols)\n",
    "\n",
    "df"
   ]
  },
  {
   "cell_type": "code",
   "execution_count": 5,
   "metadata": {},
   "outputs": [
    {
     "output_type": "execute_result",
     "data": {
      "text/plain": [
       "(10, 5)"
      ]
     },
     "metadata": {},
     "execution_count": 5
    }
   ],
   "source": [
    "df.shape"
   ]
  },
  {
   "cell_type": "code",
   "execution_count": 6,
   "metadata": {},
   "outputs": [
    {
     "output_type": "stream",
     "name": "stdout",
     "text": [
      "df_1.shape: (7, 5)\ndf_2.shape: (3, 5)\n"
     ]
    }
   ],
   "source": [
    "# Membagi df jadi dua dengan proporsi df1 = 70% df2 sisanya\n",
    "proporsi = 0.7\n",
    "# Membuat df 1 dengan frac=70%\n",
    "df_1 = df.sample(frac=proporsi)\n",
    "# Membuat df2 dengan df yang df_1nya dihapus\n",
    "df_2 = df.drop(df_1.index)\n",
    "\n",
    "print(f'df_1.shape: {df_1.shape}')\n",
    "print(f'df_2.shape: {df_2.shape}')"
   ]
  },
  {
   "cell_type": "code",
   "execution_count": 11,
   "metadata": {},
   "outputs": [
    {
     "output_type": "execute_result",
     "data": {
      "text/plain": [
       "    A   B   C   D   E\n",
       "7   3   6  12  18  16\n",
       "8  10  13   3   3  15\n",
       "5   4  10  18   8   6\n",
       "0  10   6  12  11  17\n",
       "9   6   4  14  12   2\n",
       "1   5  12   4   8  16\n",
       "6  13   6  11   2  19"
      ],
      "text/html": "<div>\n<style scoped>\n    .dataframe tbody tr th:only-of-type {\n        vertical-align: middle;\n    }\n\n    .dataframe tbody tr th {\n        vertical-align: top;\n    }\n\n    .dataframe thead th {\n        text-align: right;\n    }\n</style>\n<table border=\"1\" class=\"dataframe\">\n  <thead>\n    <tr style=\"text-align: right;\">\n      <th></th>\n      <th>A</th>\n      <th>B</th>\n      <th>C</th>\n      <th>D</th>\n      <th>E</th>\n    </tr>\n  </thead>\n  <tbody>\n    <tr>\n      <th>7</th>\n      <td>3</td>\n      <td>6</td>\n      <td>12</td>\n      <td>18</td>\n      <td>16</td>\n    </tr>\n    <tr>\n      <th>8</th>\n      <td>10</td>\n      <td>13</td>\n      <td>3</td>\n      <td>3</td>\n      <td>15</td>\n    </tr>\n    <tr>\n      <th>5</th>\n      <td>4</td>\n      <td>10</td>\n      <td>18</td>\n      <td>8</td>\n      <td>6</td>\n    </tr>\n    <tr>\n      <th>0</th>\n      <td>10</td>\n      <td>6</td>\n      <td>12</td>\n      <td>11</td>\n      <td>17</td>\n    </tr>\n    <tr>\n      <th>9</th>\n      <td>6</td>\n      <td>4</td>\n      <td>14</td>\n      <td>12</td>\n      <td>2</td>\n    </tr>\n    <tr>\n      <th>1</th>\n      <td>5</td>\n      <td>12</td>\n      <td>4</td>\n      <td>8</td>\n      <td>16</td>\n    </tr>\n    <tr>\n      <th>6</th>\n      <td>13</td>\n      <td>6</td>\n      <td>11</td>\n      <td>2</td>\n      <td>19</td>\n    </tr>\n  </tbody>\n</table>\n</div>"
     },
     "metadata": {},
     "execution_count": 11
    }
   ],
   "source": [
    "df_1"
   ]
  },
  {
   "cell_type": "code",
   "execution_count": 8,
   "metadata": {},
   "outputs": [
    {
     "output_type": "execute_result",
     "data": {
      "text/plain": [
       "    A   B   C   D   E\n",
       "2   1   9   3  11  11\n",
       "3   6   8   2  10   1\n",
       "4  16  16  16  16   4"
      ],
      "text/html": "<div>\n<style scoped>\n    .dataframe tbody tr th:only-of-type {\n        vertical-align: middle;\n    }\n\n    .dataframe tbody tr th {\n        vertical-align: top;\n    }\n\n    .dataframe thead th {\n        text-align: right;\n    }\n</style>\n<table border=\"1\" class=\"dataframe\">\n  <thead>\n    <tr style=\"text-align: right;\">\n      <th></th>\n      <th>A</th>\n      <th>B</th>\n      <th>C</th>\n      <th>D</th>\n      <th>E</th>\n    </tr>\n  </thead>\n  <tbody>\n    <tr>\n      <th>2</th>\n      <td>1</td>\n      <td>9</td>\n      <td>3</td>\n      <td>11</td>\n      <td>11</td>\n    </tr>\n    <tr>\n      <th>3</th>\n      <td>6</td>\n      <td>8</td>\n      <td>2</td>\n      <td>10</td>\n      <td>1</td>\n    </tr>\n    <tr>\n      <th>4</th>\n      <td>16</td>\n      <td>16</td>\n      <td>16</td>\n      <td>16</td>\n      <td>4</td>\n    </tr>\n  </tbody>\n</table>\n</div>"
     },
     "metadata": {},
     "execution_count": 8
    }
   ],
   "source": [
    "df_2"
   ]
  },
  {
   "cell_type": "code",
   "execution_count": null,
   "metadata": {},
   "outputs": [],
   "source": []
  }
 ]
}