{
 "metadata": {
  "language_info": {
   "codemirror_mode": {
    "name": "ipython",
    "version": 3
   },
   "file_extension": ".py",
   "mimetype": "text/x-python",
   "name": "python",
   "nbconvert_exporter": "python",
   "pygments_lexer": "ipython3",
   "version": "3.9.5"
  },
  "orig_nbformat": 4,
  "kernelspec": {
   "name": "python3",
   "display_name": "Python 3.9.5 64-bit"
  },
  "interpreter": {
   "hash": "45e182f63ce9a24b717966ed2152045f3ff728757cabbf2655012d4a2cde5b39"
  }
 },
 "nbformat": 4,
 "nbformat_minor": 2,
 "cells": [
  {
   "cell_type": "code",
   "execution_count": 61,
   "metadata": {},
   "outputs": [
    {
     "output_type": "stream",
     "name": "stdout",
     "text": [
      "1.2.5\n"
     ]
    }
   ],
   "source": [
    "import pandas as pd\n",
    "\n",
    "print(pd.__version__)"
   ]
  },
  {
   "cell_type": "code",
   "execution_count": 62,
   "metadata": {},
   "outputs": [
    {
     "output_type": "execute_result",
     "data": {
      "text/plain": [
       "        index         A         B         C         D\n",
       "0  3Ot6dtGMdK -0.270175  0.142719  0.125991       NaN\n",
       "1  Z6WjvtIQDF  0.201424 -0.539718       NaN  0.354140\n",
       "2  NG43qu64u1  1.257992 -0.084132 -1.040575  0.031353\n",
       "3  fcXdFJkJqK  0.207275  1.884533  0.291513  0.362392\n",
       "4  IcRY0meTFP       NaN -1.682447  1.227355       NaN"
      ],
      "text/html": "<div>\n<style scoped>\n    .dataframe tbody tr th:only-of-type {\n        vertical-align: middle;\n    }\n\n    .dataframe tbody tr th {\n        vertical-align: top;\n    }\n\n    .dataframe thead th {\n        text-align: right;\n    }\n</style>\n<table border=\"1\" class=\"dataframe\">\n  <thead>\n    <tr style=\"text-align: right;\">\n      <th></th>\n      <th>index</th>\n      <th>A</th>\n      <th>B</th>\n      <th>C</th>\n      <th>D</th>\n    </tr>\n  </thead>\n  <tbody>\n    <tr>\n      <th>0</th>\n      <td>3Ot6dtGMdK</td>\n      <td>-0.270175</td>\n      <td>0.142719</td>\n      <td>0.125991</td>\n      <td>NaN</td>\n    </tr>\n    <tr>\n      <th>1</th>\n      <td>Z6WjvtIQDF</td>\n      <td>0.201424</td>\n      <td>-0.539718</td>\n      <td>NaN</td>\n      <td>0.354140</td>\n    </tr>\n    <tr>\n      <th>2</th>\n      <td>NG43qu64u1</td>\n      <td>1.257992</td>\n      <td>-0.084132</td>\n      <td>-1.040575</td>\n      <td>0.031353</td>\n    </tr>\n    <tr>\n      <th>3</th>\n      <td>fcXdFJkJqK</td>\n      <td>0.207275</td>\n      <td>1.884533</td>\n      <td>0.291513</td>\n      <td>0.362392</td>\n    </tr>\n    <tr>\n      <th>4</th>\n      <td>IcRY0meTFP</td>\n      <td>NaN</td>\n      <td>-1.682447</td>\n      <td>1.227355</td>\n      <td>NaN</td>\n    </tr>\n  </tbody>\n</table>\n</div>"
     },
     "metadata": {},
     "execution_count": 62
    }
   ],
   "source": [
    "df = pd.util.testing.makeMissingDataframe().reset_index()\n",
    "df.head()"
   ]
  },
  {
   "cell_type": "code",
   "execution_count": 63,
   "metadata": {},
   "outputs": [
    {
     "output_type": "execute_result",
     "data": {
      "text/plain": [
       "            Z         A         B         C         D\n",
       "0  3Ot6dtGMdK -0.270175  0.142719  0.125991       NaN\n",
       "1  Z6WjvtIQDF  0.201424 -0.539718       NaN  0.354140\n",
       "2  NG43qu64u1  1.257992 -0.084132 -1.040575  0.031353\n",
       "3  fcXdFJkJqK  0.207275  1.884533  0.291513  0.362392\n",
       "4  IcRY0meTFP       NaN -1.682447  1.227355       NaN"
      ],
      "text/html": "<div>\n<style scoped>\n    .dataframe tbody tr th:only-of-type {\n        vertical-align: middle;\n    }\n\n    .dataframe tbody tr th {\n        vertical-align: top;\n    }\n\n    .dataframe thead th {\n        text-align: right;\n    }\n</style>\n<table border=\"1\" class=\"dataframe\">\n  <thead>\n    <tr style=\"text-align: right;\">\n      <th></th>\n      <th>Z</th>\n      <th>A</th>\n      <th>B</th>\n      <th>C</th>\n      <th>D</th>\n    </tr>\n  </thead>\n  <tbody>\n    <tr>\n      <th>0</th>\n      <td>3Ot6dtGMdK</td>\n      <td>-0.270175</td>\n      <td>0.142719</td>\n      <td>0.125991</td>\n      <td>NaN</td>\n    </tr>\n    <tr>\n      <th>1</th>\n      <td>Z6WjvtIQDF</td>\n      <td>0.201424</td>\n      <td>-0.539718</td>\n      <td>NaN</td>\n      <td>0.354140</td>\n    </tr>\n    <tr>\n      <th>2</th>\n      <td>NG43qu64u1</td>\n      <td>1.257992</td>\n      <td>-0.084132</td>\n      <td>-1.040575</td>\n      <td>0.031353</td>\n    </tr>\n    <tr>\n      <th>3</th>\n      <td>fcXdFJkJqK</td>\n      <td>0.207275</td>\n      <td>1.884533</td>\n      <td>0.291513</td>\n      <td>0.362392</td>\n    </tr>\n    <tr>\n      <th>4</th>\n      <td>IcRY0meTFP</td>\n      <td>NaN</td>\n      <td>-1.682447</td>\n      <td>1.227355</td>\n      <td>NaN</td>\n    </tr>\n  </tbody>\n</table>\n</div>"
     },
     "metadata": {},
     "execution_count": 63
    }
   ],
   "source": [
    "df = df.rename(columns={'index':'Z'})\n",
    "df.head()"
   ]
  },
  {
   "cell_type": "code",
   "execution_count": 64,
   "metadata": {},
   "outputs": [],
   "source": [
    "# Kopi ke variabel backup agar bisa dikembalikan setelah di drop\n",
    "df_backup = df.copy(deep=True)"
   ]
  },
  {
   "cell_type": "code",
   "execution_count": 65,
   "metadata": {},
   "outputs": [
    {
     "output_type": "execute_result",
     "data": {
      "text/plain": [
       "            Z\n",
       "0  3Ot6dtGMdK\n",
       "1  Z6WjvtIQDF\n",
       "2  NG43qu64u1\n",
       "3  fcXdFJkJqK\n",
       "4  IcRY0meTFP"
      ],
      "text/html": "<div>\n<style scoped>\n    .dataframe tbody tr th:only-of-type {\n        vertical-align: middle;\n    }\n\n    .dataframe tbody tr th {\n        vertical-align: top;\n    }\n\n    .dataframe thead th {\n        text-align: right;\n    }\n</style>\n<table border=\"1\" class=\"dataframe\">\n  <thead>\n    <tr style=\"text-align: right;\">\n      <th></th>\n      <th>Z</th>\n    </tr>\n  </thead>\n  <tbody>\n    <tr>\n      <th>0</th>\n      <td>3Ot6dtGMdK</td>\n    </tr>\n    <tr>\n      <th>1</th>\n      <td>Z6WjvtIQDF</td>\n    </tr>\n    <tr>\n      <th>2</th>\n      <td>NG43qu64u1</td>\n    </tr>\n    <tr>\n      <th>3</th>\n      <td>fcXdFJkJqK</td>\n    </tr>\n    <tr>\n      <th>4</th>\n      <td>IcRY0meTFP</td>\n    </tr>\n  </tbody>\n</table>\n</div>"
     },
     "metadata": {},
     "execution_count": 65
    }
   ],
   "source": [
    "# Menghilangkan kolom dengan missing value\n",
    "df = df.dropna(axis='columns')\n",
    "df.head()"
   ]
  },
  {
   "cell_type": "code",
   "execution_count": 66,
   "metadata": {},
   "outputs": [
    {
     "output_type": "execute_result",
     "data": {
      "text/plain": [
       "            Z         A         B         C         D\n",
       "2  NG43qu64u1  1.257992 -0.084132 -1.040575  0.031353\n",
       "3  fcXdFJkJqK  0.207275  1.884533  0.291513  0.362392\n",
       "5  Bjma8iC0v9 -0.446053  1.913548 -0.918035  0.353535\n",
       "6  1OmIKsvvM7 -0.859172 -1.031880  0.991383  0.883757\n",
       "8  GuTinas4hq  0.292466  0.608533 -1.201905  0.118868"
      ],
      "text/html": "<div>\n<style scoped>\n    .dataframe tbody tr th:only-of-type {\n        vertical-align: middle;\n    }\n\n    .dataframe tbody tr th {\n        vertical-align: top;\n    }\n\n    .dataframe thead th {\n        text-align: right;\n    }\n</style>\n<table border=\"1\" class=\"dataframe\">\n  <thead>\n    <tr style=\"text-align: right;\">\n      <th></th>\n      <th>Z</th>\n      <th>A</th>\n      <th>B</th>\n      <th>C</th>\n      <th>D</th>\n    </tr>\n  </thead>\n  <tbody>\n    <tr>\n      <th>2</th>\n      <td>NG43qu64u1</td>\n      <td>1.257992</td>\n      <td>-0.084132</td>\n      <td>-1.040575</td>\n      <td>0.031353</td>\n    </tr>\n    <tr>\n      <th>3</th>\n      <td>fcXdFJkJqK</td>\n      <td>0.207275</td>\n      <td>1.884533</td>\n      <td>0.291513</td>\n      <td>0.362392</td>\n    </tr>\n    <tr>\n      <th>5</th>\n      <td>Bjma8iC0v9</td>\n      <td>-0.446053</td>\n      <td>1.913548</td>\n      <td>-0.918035</td>\n      <td>0.353535</td>\n    </tr>\n    <tr>\n      <th>6</th>\n      <td>1OmIKsvvM7</td>\n      <td>-0.859172</td>\n      <td>-1.031880</td>\n      <td>0.991383</td>\n      <td>0.883757</td>\n    </tr>\n    <tr>\n      <th>8</th>\n      <td>GuTinas4hq</td>\n      <td>0.292466</td>\n      <td>0.608533</td>\n      <td>-1.201905</td>\n      <td>0.118868</td>\n    </tr>\n  </tbody>\n</table>\n</div>"
     },
     "metadata": {},
     "execution_count": 66
    }
   ],
   "source": [
    "# Menghilangkan baris dengan missing value\n",
    "df = df_backup.copy(deep=True)\n",
    "df = df.dropna(axis='rows')\n",
    "df.head()"
   ]
  },
  {
   "cell_type": "code",
   "execution_count": 67,
   "metadata": {},
   "outputs": [
    {
     "output_type": "execute_result",
     "data": {
      "text/plain": [
       "Z    0.000000\n",
       "A    0.066667\n",
       "B    0.166667\n",
       "C    0.066667\n",
       "D    0.100000\n",
       "dtype: float64"
      ]
     },
     "metadata": {},
     "execution_count": 67
    }
   ],
   "source": [
    "# Mencari presentase missing value tiap column\n",
    "df = df_backup.copy(deep=True)\n",
    "df.isna().mean()"
   ]
  },
  {
   "cell_type": "code",
   "execution_count": 68,
   "metadata": {},
   "outputs": [
    {
     "output_type": "execute_result",
     "data": {
      "text/plain": [
       "            Z         A         C         D\n",
       "0  3Ot6dtGMdK -0.270175  0.125991       NaN\n",
       "1  Z6WjvtIQDF  0.201424       NaN  0.354140\n",
       "2  NG43qu64u1  1.257992 -1.040575  0.031353\n",
       "3  fcXdFJkJqK  0.207275  0.291513  0.362392\n",
       "4  IcRY0meTFP       NaN  1.227355       NaN"
      ],
      "text/html": "<div>\n<style scoped>\n    .dataframe tbody tr th:only-of-type {\n        vertical-align: middle;\n    }\n\n    .dataframe tbody tr th {\n        vertical-align: top;\n    }\n\n    .dataframe thead th {\n        text-align: right;\n    }\n</style>\n<table border=\"1\" class=\"dataframe\">\n  <thead>\n    <tr style=\"text-align: right;\">\n      <th></th>\n      <th>Z</th>\n      <th>A</th>\n      <th>C</th>\n      <th>D</th>\n    </tr>\n  </thead>\n  <tbody>\n    <tr>\n      <th>0</th>\n      <td>3Ot6dtGMdK</td>\n      <td>-0.270175</td>\n      <td>0.125991</td>\n      <td>NaN</td>\n    </tr>\n    <tr>\n      <th>1</th>\n      <td>Z6WjvtIQDF</td>\n      <td>0.201424</td>\n      <td>NaN</td>\n      <td>0.354140</td>\n    </tr>\n    <tr>\n      <th>2</th>\n      <td>NG43qu64u1</td>\n      <td>1.257992</td>\n      <td>-1.040575</td>\n      <td>0.031353</td>\n    </tr>\n    <tr>\n      <th>3</th>\n      <td>fcXdFJkJqK</td>\n      <td>0.207275</td>\n      <td>0.291513</td>\n      <td>0.362392</td>\n    </tr>\n    <tr>\n      <th>4</th>\n      <td>IcRY0meTFP</td>\n      <td>NaN</td>\n      <td>1.227355</td>\n      <td>NaN</td>\n    </tr>\n  </tbody>\n</table>\n</div>"
     },
     "metadata": {},
     "execution_count": 68
    }
   ],
   "source": [
    "#  Menghapus setiap kolom yang mengandung missing value berdasasarkan threshold\n",
    "# \n",
    "threshold = len(df) * 0.9\n",
    "df = df.dropna(thresh=threshold, axis='columns')\n",
    "df.head()"
   ]
  },
  {
   "cell_type": "code",
   "execution_count": null,
   "metadata": {},
   "outputs": [],
   "source": []
  }
 ]
}